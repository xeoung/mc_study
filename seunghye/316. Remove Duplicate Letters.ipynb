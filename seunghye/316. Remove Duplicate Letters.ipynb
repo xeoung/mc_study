{
 "cells": [
  {
   "cell_type": "code",
   "execution_count": null,
   "id": "493760b0",
   "metadata": {},
   "outputs": [],
   "source": [
    "class Solution(object):\n",
    "    def removeDuplicateLetters(self, s):\n",
    "        \"\"\"\n",
    "        :type s: str\n",
    "        :rtype: str\n",
    "        \"\"\"\n",
    "        for char in sorted(set(s)):\n",
    "            suffix = s[s.index(char):]\n",
    "            if set(s) == set(suffix):\n",
    "                return char + self.removeDuplicateLetters(suffix.replace(char,''))\n",
    "        return ''"
   ]
  }
 ],
 "metadata": {
  "kernelspec": {
   "display_name": "Python 3 (ipykernel)",
   "language": "python",
   "name": "python3"
  },
  "language_info": {
   "codemirror_mode": {
    "name": "ipython",
    "version": 3
   },
   "file_extension": ".py",
   "mimetype": "text/x-python",
   "name": "python",
   "nbconvert_exporter": "python",
   "pygments_lexer": "ipython3",
   "version": "3.9.12"
  }
 },
 "nbformat": 4,
 "nbformat_minor": 5
}
