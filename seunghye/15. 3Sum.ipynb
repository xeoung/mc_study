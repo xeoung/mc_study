{
 "cells": [
  {
   "cell_type": "code",
   "execution_count": null,
   "id": "6accf14b",
   "metadata": {},
   "outputs": [],
   "source": [
    "class Solution(object):\n",
    "    def threeSum(self, nums):\n",
    "        \"\"\" \n",
    "        :type nums: List[int]\n",
    "        :rtype: List[List[int]]\n",
    "        \"\"\"\n",
    "        answer = []\n",
    "        nums.sort()\n",
    "        \n",
    "        for i in range(len(nums)-2):\n",
    "            if i>0 and nums[i] == nums[i-1]:\n",
    "                continue\n",
    "            \n",
    "            left, right = i+1, len(nums)-1\n",
    "            while left < right :\n",
    "                Sum = nums[i] + nums[left] + nums[right]\n",
    "                if Sum < 0 :\n",
    "                    left += 1 \n",
    "                elif Sum > 0 :\n",
    "                    right -= 1 \n",
    "                else :\n",
    "                    answer.append([nums[i],nums[left],nums[right]])\n",
    "                    while left < right and nums[left] == nums[left+1]:\n",
    "                        left += 1 \n",
    "                    while left < right and nums[right] == nums[right-1]:\n",
    "                        right -= 1 \n",
    "                    left += 1\n",
    "                    right -= 1\n",
    "        return answer"
   ]
  }
 ],
 "metadata": {
  "kernelspec": {
   "display_name": "Python 3 (ipykernel)",
   "language": "python",
   "name": "python3"
  },
  "language_info": {
   "codemirror_mode": {
    "name": "ipython",
    "version": 3
   },
   "file_extension": ".py",
   "mimetype": "text/x-python",
   "name": "python",
   "nbconvert_exporter": "python",
   "pygments_lexer": "ipython3",
   "version": "3.9.12"
  }
 },
 "nbformat": 4,
 "nbformat_minor": 5
}
